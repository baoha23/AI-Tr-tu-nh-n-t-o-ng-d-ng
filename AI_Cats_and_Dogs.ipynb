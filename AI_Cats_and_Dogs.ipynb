{
  "nbformat": 4,
  "nbformat_minor": 0,
  "metadata": {
    "colab": {
      "provenance": []
    },
    "kernelspec": {
      "name": "python3",
      "display_name": "Python 3"
    },
    "language_info": {
      "name": "python"
    }
  },
  "cells": [
    {
      "cell_type": "code",
      "execution_count": null,
      "metadata": {
        "id": "1YEHmzuePmPc"
      },
      "outputs": [],
      "source": [
        "# importing libraries\n",
        "import pandas as pd\n",
        "import numpy as np\n",
        "import matplotlib.pyplot as plt\n",
        "import tensorflow as tf\n",
        "import os\n",
        "from tensorflow.keras.preprocessing import image"
      ]
    },
    {
      "cell_type": "code",
      "source": [
        "from google.colab import drive\n",
        "drive.mount('/content/drive')"
      ],
      "metadata": {
        "id": "PqweweNQakiL",
        "colab": {
          "base_uri": "https://localhost:8080/"
        },
        "outputId": "0b651732-5621-48a2-9e42-df2a3ce64194"
      },
      "execution_count": null,
      "outputs": [
        {
          "output_type": "stream",
          "name": "stdout",
          "text": [
            "Mounted at /content/drive\n"
          ]
        }
      ]
    },
    {
      "cell_type": "code",
      "source": [
        "# importing libraries for Deep Learning\n",
        "from tensorflow.keras.models import Sequential\n",
        "from tensorflow.keras.layers import Conv2D, MaxPooling2D, Flatten, Dense, Dropout, Activation\n",
        "from tensorflow.keras.preprocessing.image import ImageDataGenerator"
      ],
      "metadata": {
        "id": "pOSaOlS5R19C"
      },
      "execution_count": null,
      "outputs": []
    },
    {
      "cell_type": "code",
      "source": [
        "from google.colab import drive\n",
        "\n",
        "# Mount Google Drive để truy cập dữ liệu\n",
        "drive.mount('/content/drive')\n",
        "\n",
        "# Đường dẫn tuyệt đối đến thư mục chứa dữ liệu trên Google Drive\n",
        "base_dir = '/content/drive/My Drive/dataset1'\n",
        "\n",
        "train_dir = base_dir + '/training_set'\n",
        "test_dir = base_dir + '/test_set'\n",
        "\n",
        "train_dir_cats = train_dir + '/cats'\n",
        "train_dir_dogs = train_dir + '/dogs'\n",
        "test_dir_cats = test_dir + '/cats'\n",
        "test_dir_dogs = test_dir + '/dogs'"
      ],
      "metadata": {
        "colab": {
          "base_uri": "https://localhost:8080/"
        },
        "id": "o72gOgrCR3z2",
        "outputId": "7b0b24b0-cffe-4b1f-a950-09f97db98e85"
      },
      "execution_count": null,
      "outputs": [
        {
          "output_type": "stream",
          "name": "stdout",
          "text": [
            "Drive already mounted at /content/drive; to attempt to forcibly remount, call drive.mount(\"/content/drive\", force_remount=True).\n"
          ]
        }
      ]
    },
    {
      "cell_type": "code",
      "source": [
        "\n",
        "# Kiểm tra số lượng hình ảnh trong từng thư mục\n",
        "if os.path.exists(train_dir_cats):\n",
        "    num_train_cats = len(os.listdir(train_dir_cats))\n",
        "    print('number of cats training images - ', num_train_cats)\n",
        "else:\n",
        "    print('Directory not found:', train_dir_cats)\n",
        "\n",
        "if os.path.exists(train_dir_dogs):\n",
        "    num_train_dogs = len(os.listdir(train_dir_dogs))\n",
        "    print('number of dogs training images - ', num_train_dogs)\n",
        "else:\n",
        "    print('Directory not found:', train_dir_dogs)\n",
        "\n",
        "if os.path.exists(test_dir_cats):\n",
        "    num_test_cats = len(os.listdir(test_dir_cats))\n",
        "    print('number of cats testing images - ', num_test_cats)\n",
        "else:\n",
        "    print('Directory not found:', test_dir_cats)\n",
        "\n",
        "if os.path.exists(test_dir_dogs):\n",
        "    num_test_dogs = len(os.listdir(test_dir_dogs))\n",
        "    print('number of dogs testing images - ', num_test_dogs)\n",
        "else:\n",
        "    print('Directory not found:', test_dir_dogs)"
      ],
      "metadata": {
        "id": "CahPb0QBR5X5",
        "colab": {
          "base_uri": "https://localhost:8080/"
        },
        "outputId": "450aada2-3d85-46d7-86dd-cc62e799c2f7"
      },
      "execution_count": null,
      "outputs": [
        {
          "output_type": "stream",
          "name": "stdout",
          "text": [
            "number of cats training images -  2000\n",
            "number of dogs training images -  2001\n",
            "number of cats testing images -  1000\n",
            "number of dogs testing images -  1005\n"
          ]
        }
      ]
    },
    {
      "cell_type": "code",
      "source": [
        "data_generator = ImageDataGenerator(rescale = 1.0/255.0, zoom_range = 0.2)\n",
        "#rescale: Scale lại giá trị của các pixel trong hình ảnh bằng cách chia cho 255.0. Điều này giúp đưa giá trị pixel về khoảng từ 0 đến 1, giúp việc huấn luyện hiệu quả hơn.\n",
        "#zoom_range: Phạm vi cho phép zoom (phóng to hoặc thu nhỏ) hình ảnh. Trong trường hợp này, giá trị 0.2 cho biết hình ảnh có thể được zoom trong khoảng từ 0.8 đến 1.2 lần kích thước gốc."
      ],
      "metadata": {
        "id": "Q7YPdC89R69d"
      },
      "execution_count": null,
      "outputs": []
    },
    {
      "cell_type": "code",
      "source": [
        "batch_size = 32\n",
        "training_data = data_generator.flow_from_directory(directory = train_dir,\n",
        "                                                   target_size = (64, 64),\n",
        "                                                   batch_size = batch_size,\n",
        "                                                   class_mode = 'binary')\n",
        "testing_data = data_generator.flow_from_directory(directory = test_dir,\n",
        "                                                  target_size = (64, 64),\n",
        "                                                  batch_size = batch_size,\n",
        "                                                  class_mode = 'binary')"
      ],
      "metadata": {
        "id": "DuIDQoSHR8bM",
        "colab": {
          "base_uri": "https://localhost:8080/"
        },
        "outputId": "f18d5311-29dc-4841-a1ae-c8c8a733e44d"
      },
      "execution_count": null,
      "outputs": [
        {
          "output_type": "stream",
          "name": "stdout",
          "text": [
            "Found 4001 images belonging to 2 classes.\n",
            "Found 2005 images belonging to 2 classes.\n"
          ]
        }
      ]
    },
    {
      "cell_type": "code",
      "source": [
        "# preparing the layers in the Convolutional Deep Neural Network\n",
        "model = Sequential() #tạo ra mô hình tuần tự\n",
        "model.add(Conv2D(filters = 32, kernel_size = (3, 3), activation = 'relu', input_shape = training_data.image_shape))\n",
        "#Layer này sẽ nhận đầu vào là hình ảnh và áp dụng 32 bộ lọc với kích thước kernel là (3, 3). Hàm kích hoạt được sử dụng là ReLU (Rectified Linear Unit).\n",
        "\n",
        "model.add(MaxPooling2D(pool_size = (2, 2))) # giảm kích thước của đầu ra\n",
        "model.add(Dropout(rate = 0.3)) # giảm hiện tượng quá khớp (overfitting) bằng cách ngẫu nhiên bỏ qua một phần các đơn vị đầu ra\n",
        "model.add(Conv2D(filters = 64, kernel_size = (3, 3), activation = 'relu'))\n",
        "model.add(MaxPooling2D(pool_size = (2, 2)))\n",
        "model.add(Dropout(rate = 0.2)) # như trên\n",
        "model.add(Conv2D(filters = 126, kernel_size = (3, 3), activation = 'relu'))\n",
        "model.add(MaxPooling2D(pool_size = (2, 2)))\n",
        "model.add(Dropout(rate = 0.15)) # y vậy\n",
        "model.add(Flatten()) #đổi đầu vào từ tensor 2D thành vector 1D để chuẩn bị cho các layer fully connected (hoàn toàn kết nối)\n",
        "model.add(Dense(units = 32, activation = 'relu'))\n",
        "model.add(Dropout(rate = 0.15)) #giảm quá khớp\n",
        "model.add(Dense(units = 64, activation = 'relu'))\n",
        "model.add(Dropout(rate = 0.1)) #y vậy\n",
        "model.add(Dense(units = len(set(training_data.classes)), activation = 'softmax'))\n",
        "model.compile(optimizer = 'adam', loss = 'sparse_categorical_crossentropy', metrics = ['accuracy'])"
      ],
      "metadata": {
        "id": "aO0HrCmrSALB"
      },
      "execution_count": null,
      "outputs": []
    },
    {
      "cell_type": "code",
      "source": [
        "model.summary()"
      ],
      "metadata": {
        "id": "Z2FhPwYSSB61",
        "colab": {
          "base_uri": "https://localhost:8080/"
        },
        "outputId": "6eaf52db-3146-4957-ecd0-02cbaf18a1a0"
      },
      "execution_count": null,
      "outputs": [
        {
          "output_type": "stream",
          "name": "stdout",
          "text": [
            "Model: \"sequential\"\n",
            "_________________________________________________________________\n",
            " Layer (type)                Output Shape              Param #   \n",
            "=================================================================\n",
            " conv2d (Conv2D)             (None, 62, 62, 32)        896       \n",
            "                                                                 \n",
            " max_pooling2d (MaxPooling2  (None, 31, 31, 32)        0         \n",
            " D)                                                              \n",
            "                                                                 \n",
            " dropout (Dropout)           (None, 31, 31, 32)        0         \n",
            "                                                                 \n",
            " conv2d_1 (Conv2D)           (None, 29, 29, 64)        18496     \n",
            "                                                                 \n",
            " max_pooling2d_1 (MaxPoolin  (None, 14, 14, 64)        0         \n",
            " g2D)                                                            \n",
            "                                                                 \n",
            " dropout_1 (Dropout)         (None, 14, 14, 64)        0         \n",
            "                                                                 \n",
            " conv2d_2 (Conv2D)           (None, 12, 12, 126)       72702     \n",
            "                                                                 \n",
            " max_pooling2d_2 (MaxPoolin  (None, 6, 6, 126)         0         \n",
            " g2D)                                                            \n",
            "                                                                 \n",
            " dropout_2 (Dropout)         (None, 6, 6, 126)         0         \n",
            "                                                                 \n",
            " flatten (Flatten)           (None, 4536)              0         \n",
            "                                                                 \n",
            " dense (Dense)               (None, 32)                145184    \n",
            "                                                                 \n",
            " dropout_3 (Dropout)         (None, 32)                0         \n",
            "                                                                 \n",
            " dense_1 (Dense)             (None, 64)                2112      \n",
            "                                                                 \n",
            " dropout_4 (Dropout)         (None, 64)                0         \n",
            "                                                                 \n",
            " dense_2 (Dense)             (None, 2)                 130       \n",
            "                                                                 \n",
            "=================================================================\n",
            "Total params: 239520 (935.62 KB)\n",
            "Trainable params: 239520 (935.62 KB)\n",
            "Non-trainable params: 0 (0.00 Byte)\n",
            "_________________________________________________________________\n"
          ]
        }
      ]
    },
    {
      "cell_type": "code",
      "source": [
        "# Đoạn code  sử dụng phương thức fit() để huấn luyện mô hình neural network.\n",
        "fitted_model = model.fit(training_data,\n",
        "                        steps_per_epoch = 100,\n",
        "                        epochs = 10,\n",
        "                        validation_data = testing_data,\n",
        "                        validation_steps = 15)\n"
      ],
      "metadata": {
        "id": "9uKvIX_LSFLR",
        "colab": {
          "base_uri": "https://localhost:8080/"
        },
        "outputId": "e541b67e-4067-4e19-8528-ca6973290c6d"
      },
      "execution_count": null,
      "outputs": [
        {
          "output_type": "stream",
          "name": "stdout",
          "text": [
            "Epoch 1/10\n",
            "100/100 [==============================] - 265s 3s/step - loss: 0.6923 - accuracy: 0.5134 - val_loss: 0.6939 - val_accuracy: 0.4792\n",
            "Epoch 2/10\n",
            "100/100 [==============================] - 189s 2s/step - loss: 0.6939 - accuracy: 0.5039 - val_loss: 0.6916 - val_accuracy: 0.5167\n",
            "Epoch 3/10\n",
            "100/100 [==============================] - 118s 1s/step - loss: 0.6902 - accuracy: 0.5412 - val_loss: 0.6783 - val_accuracy: 0.5646\n",
            "Epoch 4/10\n",
            "100/100 [==============================] - 115s 1s/step - loss: 0.6706 - accuracy: 0.5876 - val_loss: 0.6859 - val_accuracy: 0.5396\n",
            "Epoch 5/10\n",
            "100/100 [==============================] - 77s 771ms/step - loss: 0.6591 - accuracy: 0.6157 - val_loss: 0.6340 - val_accuracy: 0.6687\n",
            "Epoch 6/10\n",
            "100/100 [==============================] - 76s 757ms/step - loss: 0.6523 - accuracy: 0.6153 - val_loss: 0.6711 - val_accuracy: 0.5771\n",
            "Epoch 7/10\n",
            "100/100 [==============================] - 75s 757ms/step - loss: 0.6493 - accuracy: 0.6212 - val_loss: 0.6419 - val_accuracy: 0.6042\n",
            "Epoch 8/10\n",
            "100/100 [==============================] - 55s 552ms/step - loss: 0.6528 - accuracy: 0.6119 - val_loss: 0.6420 - val_accuracy: 0.6417\n",
            "Epoch 9/10\n",
            "100/100 [==============================] - 54s 542ms/step - loss: 0.6316 - accuracy: 0.6516 - val_loss: 0.6632 - val_accuracy: 0.6083\n",
            "Epoch 10/10\n",
            "100/100 [==============================] - 47s 465ms/step - loss: 0.6240 - accuracy: 0.6548 - val_loss: 0.6647 - val_accuracy: 0.5896\n"
          ]
        }
      ]
    },
    {
      "cell_type": "code",
      "source": [
        "\n",
        "# Giả sử bạn có độ chính xác và độ chính xác xác thực được lưu trữ trong danh sách hoặc mảng\n",
        "accuracy = [0.85, 0.9, 0.92, 0.95, 0.97]\n",
        "val_accuracy = [0.82, 0.88, 0.89, 0.92, 0.94]\n",
        "\n",
        "epochs = range(1, len(accuracy) + 1)\n",
        "\n",
        "# Độ chính xác của dự đoán và độ chính xác xác nhận\n",
        "plt.plot(epochs, accuracy, 'bo', label='Độ chính xác huấn luyện')\n",
        "plt.plot(epochs, val_accuracy, 'r', label='Độ chính xác thực tế')\n",
        "plt.title('Độ chính xác huấn luyện và độ chính xác thực tế')\n",
        "plt.xlabel('Epochs')\n",
        "plt.ylabel('Accuracy')\n",
        "plt.legend()\n",
        "\n",
        "plt.show()"
      ],
      "metadata": {
        "id": "JJODV4LvSHTc"
      },
      "execution_count": null,
      "outputs": []
    },
    {
      "cell_type": "code",
      "source": [
        "# testing the model\n",
        "def testing_image(image_directory):\n",
        "    test_image = image.load_img(image_directory, target_size = (64, 64))\n",
        "    test_image = image.img_to_array(test_image)\n",
        "    test_image = np.expand_dims(test_image, axis = 0)\n",
        "    result = model.predict(x = test_image)\n",
        "    print(result)\n",
        "    if result[0][0]  == 1:\n",
        "        prediction = 'Dog'\n",
        "    else:\n",
        "        prediction = 'Cat'\n",
        "    return prediction"
      ],
      "metadata": {
        "id": "meQbPVHXSI-n"
      },
      "execution_count": null,
      "outputs": []
    },
    {
      "cell_type": "code",
      "source": [],
      "metadata": {
        "id": "UT8MGXdkmaKP"
      },
      "execution_count": null,
      "outputs": []
    },
    {
      "cell_type": "markdown",
      "source": [
        "**Kết quả đạt được**\n",
        "Đường dẫn test ảnh có thể thay đổi 2 dạng là:\n",
        "+ *'/dogs/dog.4001.jpg'*  (Số đây có thể thay đổi từ 4001 đến 5000)\n",
        "+ *'/cats/cat.4001.jpg'*  (Số đây có thể thay đổi từ 4001 đến 5000)\n",
        "\n",
        "**Kết qua ta sẽ có dạng :**\n",
        "[[Tỉ lệ giống 'chó' và Tỉ lệ giống 'mèo']]\n",
        "Kết luận loài nào"
      ],
      "metadata": {
        "id": "55ZO2Kp5U88D"
      }
    },
    {
      "cell_type": "code",
      "source": [
        "model.save('/content/gdrive/MyDrive/my_model.h5')"
      ],
      "metadata": {
        "id": "yjrBFMGbSJLn",
        "colab": {
          "base_uri": "https://localhost:8080/"
        },
        "outputId": "6336f910-fdac-4946-bcc7-464dc4e2b290"
      },
      "execution_count": null,
      "outputs": [
        {
          "output_type": "stream",
          "name": "stderr",
          "text": [
            "/usr/local/lib/python3.10/dist-packages/keras/src/engine/training.py:3079: UserWarning: You are saving your model as an HDF5 file via `model.save()`. This file format is considered legacy. We recommend using instead the native Keras format, e.g. `model.save('my_model.keras')`.\n",
            "  saving_api.save_model(\n"
          ]
        }
      ]
    },
    {
      "cell_type": "code",
      "source": [
        "print(testing_image(test_dir + '/dogs/dog.4500.jpg'))"
      ],
      "metadata": {
        "id": "FYCyIC1dSLVg",
        "colab": {
          "base_uri": "https://localhost:8080/"
        },
        "outputId": "fc1b639d-b826-421f-d225-7cbeae7a6c38"
      },
      "execution_count": null,
      "outputs": [
        {
          "output_type": "stream",
          "name": "stdout",
          "text": [
            "1/1 [==============================] - 0s 34ms/step\n",
            "[[1. 0.]]\n",
            "Dog\n"
          ]
        }
      ]
    }
  ]
}